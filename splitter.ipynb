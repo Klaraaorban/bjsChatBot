{
 "cells": [
  {
   "cell_type": "code",
   "execution_count": 52,
   "id": "77a07cba",
   "metadata": {},
   "outputs": [],
   "source": [
    "# from langchain_community.document_loaders import DirectoryLoader\n",
    "from langchain_community.document_loaders import UnstructuredPDFLoader\n",
    "from langchain.text_splitter import RecursiveCharacterTextSplitter\n",
    "from langchain.schema import Document\n",
    "from langchain.embeddings import HuggingFaceEmbeddings\n",
    "PATH = \"data/11.010-1-1.de.pdf\"\n",
    "def load_documents():\n",
    "    # loader = DirectoryLoader(PATH, glob=\"*.md\")\n",
    "    loader = UnstructuredPDFLoader(PATH, language=\"de\")\n",
    "    documents = loader.load()\n",
    "    return documents"
   ]
  },
  {
   "cell_type": "code",
   "execution_count": 53,
   "id": "5637a76f",
   "metadata": {},
   "outputs": [],
   "source": [
    "def split_text(documents: list[Document]):\n",
    "    text_splitter = RecursiveCharacterTextSplitter(\n",
    "        chunk_size=300,\n",
    "        chunk_overlap=100,\n",
    "        length_function=len,\n",
    "        add_start_index=True,\n",
    "    )\n",
    "    chunks = text_splitter.split_documents(documents)\n",
    "    print(f\"Split {len(documents)} documents into {len(chunks)} chunks.\")\n",
    "\n",
    "    document = chunks[10]\n",
    "    print(document.page_content)\n",
    "    print(document.metadata)\n",
    "\n",
    "    return chunks"
   ]
  },
  {
   "cell_type": "code",
   "execution_count": 55,
   "id": "21a00a8e",
   "metadata": {},
   "outputs": [
    {
     "name": "stdout",
     "output_type": "stream",
     "text": [
      "Warning: No languages specified, defaulting to English.\n",
      "Split 1 documents into 164 chunks.\n",
      "und kaum eindeutig vorzunehmen. Das Kirchengesetz zählt die «inneren» Angelegenheiten der Kirchen nicht abschliessend auf, sondern umschreibt sie in der Fassung vom 12. September 1995, in Kraft seit dem 1. Juli 1996, wie folgt: «Alles, was sich auf die Wortverkündigung, die Lehre, die Seelsorge,\n",
      "{'source': 'data/11.010-1-1.de.pdf', 'start_index': 1573}\n"
     ]
    }
   ],
   "source": [
    "docs = load_documents()\n",
    "chunks = split_text(docs)"
   ]
  },
  {
   "cell_type": "code",
   "execution_count": 56,
   "id": "2d237fdc",
   "metadata": {},
   "outputs": [
    {
     "name": "stderr",
     "output_type": "stream",
     "text": [
      "No sentence-transformers model found with name C:\\bjsChatBot\\distiluse-base-multilingual-cased-v2. Creating a new one with mean pooling.\n"
     ]
    }
   ],
   "source": [
    "from langchain.embeddings import HuggingFaceEmbeddings\n",
    "\n",
    "embeddings = HuggingFaceEmbeddings(\n",
    "    model_name=r\"C:\\bjsChatBot\\distiluse-base-multilingual-cased-v2\"\n",
    ")\n",
    "chunk_embeddings = [embeddings.embed_query(chunk.page_content) for chunk in chunks]\n"
   ]
  },
  {
   "cell_type": "code",
   "execution_count": null,
   "id": "5b419b9c",
   "metadata": {},
   "outputs": [],
   "source": [
    "import faiss\n",
    "import numpy as np\n",
    "\n",
    "embedding_matrix = np.array(chunk_embeddings).astype(\"float32\")\n",
    "\n",
    "d = embedding_matrix.shape[1]\n",
    "\n",
    "index = faiss.IndexFlatL2(d)  # L2 distance; for cosine, you can normalize first\n",
    "\n",
    "index.add(embedding_matrix)\n",
    "\n",
    "faiss.write_index(index, \"chunk_index.faiss\")\n",
    "\n",
    "# index = faiss.read_index(\"chunk_index.faiss\")\n"
   ]
  },
  {
   "cell_type": "code",
   "execution_count": 65,
   "id": "097d25a5",
   "metadata": {},
   "outputs": [
    {
     "name": "stdout",
     "output_type": "stream",
     "text": [
      "[[119   7 135 125  88  44 110 122  70  13]]\n",
      "[[1.6658372 2.0091166 2.1625526 2.243872  2.2548225 2.3437304 2.4162385\n",
      "  2.428784  2.4334397 2.4753718]]\n"
     ]
    }
   ],
   "source": [
    "query = \"Pfarrer\"\n",
    "query_embedding = embeddings.embed_query(query)\n",
    "query_embedding = np.array([query_embedding]).astype(\"float32\")\n",
    "\n",
    "k = 10  # number of nearest neighbors\n",
    "distances, indices = index.search(query_embedding, k)\n",
    "\n",
    "print(indices)    # indices of top 5 chunks\n",
    "print(distances)  # distances of those chunks\n"
   ]
  },
  {
   "cell_type": "code",
   "execution_count": 66,
   "id": "e313aece",
   "metadata": {},
   "outputs": [
    {
     "name": "stdout",
     "output_type": "stream",
     "text": [
      "Index: 119, Distance: 1.6658372\n",
      "Text:\n",
      "Geboten der Leh- re des Heils in allen Stücken Zeugnis zu geben und die Aufgaben seines Amtes treu und gewissenhaft zu erfüllen.\n",
      "Metadata:\n",
      "{'source': 'data/11.010-1-1.de.pdf', 'start_index': 24379}\n",
      "--------------------------------------------------\n",
      "Index: 7, Distance: 2.0091166\n",
      "Text:\n",
      "stimmberechtigten Glieder der Landeskir- che haben obligatorisch über die Schaffung oder Änderung der Kirchenver- fassung zu entscheiden.\n",
      "Metadata:\n",
      "{'source': 'data/11.010-1-1.de.pdf', 'start_index': 1139}\n",
      "--------------------------------------------------\n",
      "Index: 135, Distance: 2.1625526\n",
      "Text:\n",
      "4 Der Geldhaushalt der Kirche\n",
      "\n",
      "Art. B4\n",
      "\n",
      "Lukas 16,10\n",
      "\n",
      "1 Wer im Geringsten treu ist, der ist auch im Grossen treu; und wer im Ge- ringsten unrecht ist, der ist auch im Grossen unrecht.\n",
      "\n",
      "Art. 36\n",
      "\n",
      "Geldmittel der Kirche\n",
      "Metadata:\n",
      "{'source': 'data/11.010-1-1.de.pdf', 'start_index': 27499}\n",
      "--------------------------------------------------\n",
      "Index: 125, Distance: 2.243872\n",
      "Text:\n",
      "empfehlen. Ohne diese Empfehlung darf kein Bewerber in den bernischen Kirchendienst auf- genommen werden.\n",
      "Metadata:\n",
      "{'source': 'data/11.010-1-1.de.pdf', 'start_index': 25472}\n",
      "--------------------------------------------------\n",
      "Index: 88, Distance: 2.2548225\n",
      "Text:\n",
      "gewählt werden. Die Mit- glieder des Synodalrates können nicht zugleich Mitglieder der Kirchensyn- ode sein, haben aber bei deren Verhandlungen beratende Stimme. *\n",
      "Metadata:\n",
      "{'source': 'data/11.010-1-1.de.pdf', 'start_index': 18065}\n",
      "--------------------------------------------------\n"
     ]
    }
   ],
   "source": [
    "# Suppose these are the results from FAISS\n",
    "indices = [119, 7, 135, 125,  88]\n",
    "distances = [1.6658372, 2.0091166, 2.1625526, 2.243872,  2.2548225, 2.3437304, 2.4162385,\n",
    "  2.428784,  2.4334397, 2.4753718]\n",
    "\n",
    "# Map indices back to your original text chunks and metadata\n",
    "for idx, dist in zip(indices, distances):\n",
    "    chunk = chunks[idx]  # get the Document object\n",
    "    print(f\"Index: {idx}, Distance: {dist}\")\n",
    "    print(\"Text:\")\n",
    "    print(chunk.page_content)\n",
    "    print(\"Metadata:\")\n",
    "    print(chunk.metadata)\n",
    "    print(\"-\" * 50)\n"
   ]
  }
 ],
 "metadata": {
  "kernelspec": {
   "display_name": "venv_bot",
   "language": "python",
   "name": "python3"
  },
  "language_info": {
   "codemirror_mode": {
    "name": "ipython",
    "version": 3
   },
   "file_extension": ".py",
   "mimetype": "text/x-python",
   "name": "python",
   "nbconvert_exporter": "python",
   "pygments_lexer": "ipython3",
   "version": "3.10.11"
  }
 },
 "nbformat": 4,
 "nbformat_minor": 5
}
